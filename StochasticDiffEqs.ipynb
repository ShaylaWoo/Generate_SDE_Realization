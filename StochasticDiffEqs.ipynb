{
 "cells": [
  {
   "cell_type": "code",
   "execution_count": 1,
   "metadata": {},
   "outputs": [],
   "source": [
    "import numpy as np\n",
    "import time\n",
    "import requests\n",
    "import pandas as pd"
   ]
  },
  {
   "cell_type": "markdown",
   "metadata": {},
   "source": [
    "**Generate an SDE Realization**\n",
    "\n",
    "*GenerateSDERealization* takes the following arguments:\n",
    "\n",
    "- a starting value S0\n",
    "- a function $f$ of two floating point variables that returns a single value floating point value\n",
    "- a function $g$ of two floating point variables that returns a single value floating point value\n",
    "- a positive number $T$\n",
    "- a positive integer $N$\n",
    "\n",
    "and which returns a 2-tuple containing two **numpy arrays**. \n",
    "\n",
    "- an array of values $0,\\Delta,2\\Delta,\\ldots,T$ where $\\Delta=T/N,$\n",
    "- an array containing values $S_0=S0,S_\\Delta,\\ldots,S_T$ for a realization as described above.\n",
    "\n",
    "The following cell allows you to generate realizations for various processes satisying the SDE\n",
    "\n",
    "$$\n",
    "dS_t = f(t,S_t) dt + g(t,S_t) dB_t\n",
    "$$\n",
    "\n",
    "by just changing the functions $f$ and $g$ and using them as arguments to our function."
   ]
  },
  {
   "cell_type": "code",
   "execution_count": 2,
   "metadata": {},
   "outputs": [],
   "source": [
    "def GenerateSDERealization(S0,f,g,T,N):\n",
    "    # calculate parameters\n",
    "    d = T/N\n",
    "    sqrt_d = np.sqrt(d)\n",
    "    icm = np.arange(N+1)*d # increment array\n",
    "    sigma = np.random.normal(0,1,size=N)\n",
    "    d_g = sigma*sqrt_d\n",
    "    S = np.zeros(N) # St array\n",
    "    S = np.insert(S,0,S0) \n",
    "    for i in range(N):\n",
    "        t = i*d\n",
    "        S[i+1] = S[i] + f(t,S[i])*d + g(t,S[i])*d_g[i]\n",
    "    return(icm,S)"
   ]
  },
  {
   "cell_type": "markdown",
   "metadata": {},
   "source": [
    "**Plotting a realization**\n",
    "\n",
    "Test that plots of your realizations look reasonable using the code below. "
   ]
  },
  {
   "cell_type": "code",
   "execution_count": 3,
   "metadata": {},
   "outputs": [
    {
     "name": "stdout",
     "output_type": "stream",
     "text": [
      "0.022417783737182617\n"
     ]
    },
    {
     "data": {
      "image/png": "[encoded data removed]",
      "text/plain": [
       "<Figure size 432x288 with 1 Axes>"
      ]
     },
     "metadata": {
      "needs_background": "light"
     },
     "output_type": "display_data"
    }
   ],
   "source": [
    "import matplotlib.pyplot as plt\n",
    "\n",
    "start_time=time.time()\n",
    "ntrials=1000\n",
    "N=1000\n",
    "T=3\n",
    "mu=.01\n",
    "sigma=.25\n",
    "S0=1\n",
    "G0=np.exp(S0)\n",
    "\n",
    "def f(t,x):\n",
    "    return(np.sin(t)*np.cos(x))\n",
    "def g(t,x):\n",
    "    return(1+.1*np.sin(t))\n",
    "Tvec,Svec=GenerateSDERealization(S0,f,g,T,N)\n",
    "Gvec=np.exp(Svec)\n",
    "plt.plot(Tvec,Gvec)\n",
    "\n",
    "end_time=time.time()\n",
    "print(end_time-start_time)"
   ]
  },
  {
   "cell_type": "markdown",
   "metadata": {},
   "source": [
    "**Testing Ito's Lemma: A Special Case**\n",
    "**GBM2Versions** takes as input \n",
    "- **G0** a starting value G0\n",
    "- **mu**  a constant \n",
    "- **sigma** a (positive) constant \n",
    "- **T** a (positive) constant  \n",
    "- **N** a (positive) integer"
   ]
  },
  {
   "cell_type": "code",
   "execution_count": 4,
   "metadata": {},
   "outputs": [],
   "source": [
    "def GBM2Versions(G0,mu,sigma,T,N):\n",
    "    f1 = lambda t,x: mu\n",
    "    g1 = lambda t,x: sigma\n",
    "    f2 = lambda t,x: (mu + 0.5*np.square(sigma))*x\n",
    "    g2 = lambda t,x: sigma*x\n",
    "    np.random.seed(688)\n",
    "    col0,B = GenerateSDERealization(0,f1,g1,T,N)\n",
    "    col1 = G0*np.exp(B)\n",
    "    np.random.seed(688)\n",
    "    _,col2 = GenerateSDERealization(G0,f2,g2,T,N)\n",
    "    return(np.column_stack((col0,col1,col2)))"
   ]
  },
  {
   "cell_type": "markdown",
   "metadata": {},
   "source": [
    "**Generating GBM at given time points (not necessarily equi-spaced)**\n",
    "\n",
    "**GenerateGBMRealization** takes as one arguments \n",
    "\n",
    "- **G0** a starting point for realizations of GBM\n",
    "- **mu** the drift parameter\n",
    "- **sigma** the volatility parameter\n",
    "- **T** a 1-d numpy array of times in strictly increasing order with **T[0]=0** assumed\n",
    "\n",
    "at which we want to generate a single realization of GBM process starting with value **G0** at time 0 and with parameters **mu** and **sigma** at at those times in the array **T**.\n",
    "\n",
    "The function returns\n",
    "\n",
    "\n",
    "- a numpy array that has two columns and number of rows equal to the number of entries in T."
   ]
  },
  {
   "cell_type": "code",
   "execution_count": 5,
   "metadata": {},
   "outputs": [],
   "source": [
    "def GenerateGBMRealization(G0,mu,sigma,T):\n",
    "    N = len(T)\n",
    "    dT = np.diff(T)\n",
    "    sqrt_dT = np.sqrt(dT)\n",
    "    noise = np.random.normal(0,1,size=N-1)\n",
    "    G = np.zeros(N)\n",
    "    G[0]=G0 \n",
    "    for i in range(1,N):\n",
    "        G[i] = G[i-1] + mu*dT[i-1] + sigma*noise[i-1]*sqrt_dT[i-1]  \n",
    "    col1 = G0*np.exp(G)\n",
    "    return(np.column_stack((T,col1)))"
   ]
  },
  {
   "cell_type": "markdown",
   "metadata": {},
   "source": [
    "**GBM Calibration**\n",
    "\n",
    "**GBMCalibration** takes as input\n",
    "\n",
    "an (N+1) x 2 numpy array where the first column is the times $t$ at which a GBM process is observed, and the second column is the values $G_t$ of the GBM observed at those times, and returns a 2-tuple consisting of\n",
    "$\\hat{\\mu}$ and $\\hat{\\sigma}$"
   ]
  },
  {
   "cell_type": "code",
   "execution_count": 6,
   "metadata": {},
   "outputs": [],
   "source": [
    "def GBMCalibration(M):\n",
    "    t = M[:,0]\n",
    "    dt = np.diff(t)\n",
    "    G = M[:,1]\n",
    "    logG = np.log(G)\n",
    "    dlogG = np.diff(logG)\n",
    "    N = len(t)-1\n",
    "    mu_hat = (logG[N]-logG[0])/(t[N]-t[0])\n",
    "    d = np.square(dlogG-mu_hat*dt)/dt\n",
    "    sigma_hat = np.sqrt(d.sum()/N)\n",
    "    return(mu_hat,sigma_hat)"
   ]
  },
  {
   "cell_type": "markdown",
   "metadata": {},
   "source": [
    "**Testing the GBMCalibration Code**\n",
    "\n",
    "**TestCalibration** takes 3 arguments \n",
    "\n",
    "**G0** = starting point for GBM\n",
    "**mu** = the drift parameter\n",
    "**sigma** = the volatility parameter\n",
    "**MaxT** = largest possible value of time at which GBM could be observed\n",
    "**N** = number (greater than 2) of times (positive integer)at which GBM samples are observed\n",
    "\n",
    "- generate a 1-d numpy array of **N-2** times uniformly distributed in the interval **[0,MaxTime]**, adjoin the values **0** and **MaxT** to the array, and sort it in increasing order to give a 1-d array with **N** values, **0** being the miniumum and **MaxT** being the maximum. \n",
    "\n",
    "- generate a GBM realization using the parameters **G0**, **mu**, and **sigma** observed at the times in your array of times\n",
    "\n",
    "- call the GBMCalibration function using those times and observations\n",
    "\n",
    "and finally return the pair of parameter estimates (**mu**,**sigma**) obtained from the GMBCalibration function.\n",
    "\n",
    "For large values of N and MaxT, the estimates resemble the *true* values of **mu** and **sigma**  used to generate the realizations."
   ]
  },
  {
   "cell_type": "code",
   "execution_count": 7,
   "metadata": {},
   "outputs": [],
   "source": [
    "def TestGBMCalibration(G0,mu,sigma,MaxT,N):\n",
    "    t = np.random.uniform(low=0, high=MaxT, size=N-2)\n",
    "    t = np.insert(t,[0,N-2],[0,MaxT])\n",
    "    T = np.sort(t)\n",
    "    M = GenerateGBMRealization(G0,mu,sigma,T)\n",
    "    return(GBMCalibration(M))"
   ]
  },
  {
   "cell_type": "markdown",
   "metadata": {},
   "source": [
    "**FitGBMToData** takes a **single argument**, namely, \n",
    "\n",
    "- filepath = path to a data file on disk\n",
    "\n",
    "The function reads in the data from one of the files, fit a GBM model using your calibration function and return the pair consisting of fitted values of **mu** and **sigma**."
   ]
  },
  {
   "cell_type": "code",
   "execution_count": 8,
   "metadata": {},
   "outputs": [],
   "source": [
    "def FitGBMToData(filepath):\n",
    "    df = pd.read_csv(filepath,usecols=['Date', 'Adj Close**'])\n",
    "    df = df.iloc[:-1,:]\n",
    "    idx = pd.date_range(start=df.iloc[-1,0], end=df.iloc[0,0])\n",
    "    df.index = pd.DatetimeIndex(df.Date)\n",
    "    df = df.reindex(idx, fill_value=0)\n",
    "    closeP=np.array([str(i).replace(\",\", \"\") for i in df['Adj Close**']],dtype='float64')\n",
    "    df['Adj Close**']=closeP\n",
    "    T = np.array(list(range(len(df6.index))))\n",
    "    T_idx = np.array(df.iloc[:,1]!=0)\n",
    "    T = T[T_idx]\n",
    "    M = np.zeros((len(T),2))\n",
    "    M[:,0]=T\n",
    "    M[:,1]=df.iloc[T_idx,1]\n",
    "    return(GBMCalibration(M))"
   ]
  },
  {
   "cell_type": "markdown",
   "metadata": {},
   "source": [
    "**Parametric Bootstrap Confidence Intervals**\n",
    "\n",
    "**GBMBootstrapCI** takes as inputs the following\n",
    "\n",
    "- **G0** - the starting value at the value for the actual data\n",
    "- **mu** - the estimated drift parameter for the actual data\n",
    "- **sigma** - the estimated volatility parameter for the actual data\n",
    "- **T** - the vector of times at which we observe the process for the actual data, and\n",
    "- **N** - the number of bootstrap trials/the bootstrap sample size\n",
    "\n",
    "for i=0,...,N-1:\n",
    "\n",
    "- generate a realization of GBM using the input values of G0, mu, sigma and T using your **GenerateGBMRealization** function\n",
    "- calibrate the model using the **GBMCalibration** function to get $\\hat{\\mu}_i$ and $\\hat{\\sigma}_i$\n",
    "\n",
    "output is a 4-tuple consisting of\n",
    "\n",
    "- **$q_{.025}(\\hat{\\mu})$**\n",
    "- **$q_{.975}(\\hat{\\mu})$**\n",
    "- **$q_{.025}(\\hat{\\sigma})$**\n",
    "- **$q_{.975}(\\hat{\\sigma})$**"
   ]
  },
  {
   "cell_type": "code",
   "execution_count": 9,
   "metadata": {},
   "outputs": [],
   "source": [
    "def GBMBootstrapCI(G0,mu,sigma,T,N):\n",
    "    mu_hat_list=np.zeros(N)\n",
    "    sigma_hat_list=np.zeros(N)\n",
    "    for i in range(N):\n",
    "        M = GenerateGBMRealization(G0,mu,sigma,T)\n",
    "        mu_hat,sigma_hat = GBMCalibration(M)\n",
    "        mu_hat_list[i]=mu_hat\n",
    "        sigma_hat_list[i]=sigma_hat\n",
    "    mu_lb,mu_ub=np.percentile(mu_hat_list, [2.5,97.5])\n",
    "    sigma_lb,sigma_ub = np.percentile(sigma_hat_list, [2.5,97.5])\n",
    "    return(mu_lb,mu_ub,sigma_lb,sigma_ub)"
   ]
  },
  {
   "cell_type": "code",
   "execution_count": 10,
   "metadata": {},
   "outputs": [],
   "source": [
    "sigma_lower_CI_endpoint=0.008056367416607344\n",
    "sigma_upper_CI_endpoint=0.00957912405329256"
   ]
  }
 ],
 "metadata": {
  "kernelspec": {
   "display_name": "Python 3 (ipykernel)",
   "language": "python",
   "name": "python3"
  },
  "language_info": {
   "codemirror_mode": {
    "name": "ipython",
    "version": 3
   },
   "file_extension": ".py",
   "mimetype": "text/x-python",
   "name": "python",
   "nbconvert_exporter": "python",
   "pygments_lexer": "ipython3",
   "version": "3.9.7"
  }
 },
 "nbformat": 4,
 "nbformat_minor": 4
}
